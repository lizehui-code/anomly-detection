{
 "cells": [
  {
   "cell_type": "code",
   "execution_count": 1,
   "metadata": {},
   "outputs": [
    {
     "name": "stderr",
     "output_type": "stream",
     "text": [
      "Using TensorFlow backend.\n"
     ]
    },
    {
     "name": "stdout",
     "output_type": "stream",
     "text": [
      "Python:  3.7.0 (default, Jun 28 2018, 08:04:48) [MSC v.1912 64 bit (AMD64)]\n",
      "pandas:  0.23.4\n",
      "numpy:  1.19.1\n",
      "seaborn:  0.9.0\n",
      "matplotlib:  2.2.3\n",
      "sklearn:  0.19.2\n",
      "Keras:  2.3.1\n",
      "Tensorflow:  2.1.0\n"
     ]
    }
   ],
   "source": [
    "import keras\n",
    "from keras import regularizers, optimizers\n",
    "from keras import losses\n",
    "from keras.models import Sequential, Model, load_model\n",
    "from keras.layers import Dense, Input, Dropout, Embedding, LSTM\n",
    "from keras.optimizers import RMSprop, Adam, Nadam\n",
    "from keras.preprocessing import sequence\n",
    "\n",
    "from keras.layers import Conv1D, Flatten, Activation, SpatialDropout1D\n",
    "from keras.callbacks import ModelCheckpoint, TensorBoard\n",
    "from keras.utils import to_categorical\n",
    "\n",
    "import sklearn\n",
    "from sklearn.preprocessing import StandardScaler, MinMaxScaler\n",
    " \n",
    "from sklearn.metrics import confusion_matrix, roc_auc_score,precision_recall_curve\n",
    "from sklearn.metrics import classification_report,auc\n",
    "\n",
    "import seaborn as sns\n",
    "import pandas as pd\n",
    "import numpy as np\n",
    "import matplotlib\n",
    "\n",
    "import matplotlib.pyplot as plt\n",
    "import matplotlib.gridspec as gridspec\n",
    "%matplotlib inline\n",
    "\n",
    "import tensorflow \n",
    "import sys\n",
    "print(\"Python: \", sys.version)\n",
    "\n",
    "print(\"pandas: \", pd.__version__)\n",
    "print(\"numpy: \", np.__version__)\n",
    "print(\"seaborn: \", sns.__version__)\n",
    "print(\"matplotlib: \", matplotlib.__version__)\n",
    "print(\"sklearn: \", sklearn.__version__)\n",
    "print(\"Keras: \", keras.__version__)\n",
    "print(\"Tensorflow: \", tensorflow.__version__)\n"
   ]
  },
  {
   "cell_type": "code",
   "execution_count": 2,
   "metadata": {},
   "outputs": [
    {
     "name": "stdout",
     "output_type": "stream",
     "text": [
      "(3004066, 4)\n"
     ]
    },
    {
     "data": {
      "text/html": [
       "<div>\n",
       "<style scoped>\n",
       "    .dataframe tbody tr th:only-of-type {\n",
       "        vertical-align: middle;\n",
       "    }\n",
       "\n",
       "    .dataframe tbody tr th {\n",
       "        vertical-align: top;\n",
       "    }\n",
       "\n",
       "    .dataframe thead th {\n",
       "        text-align: right;\n",
       "    }\n",
       "</style>\n",
       "<table border=\"1\" class=\"dataframe\">\n",
       "  <thead>\n",
       "    <tr style=\"text-align: right;\">\n",
       "      <th></th>\n",
       "      <th>timestamp</th>\n",
       "      <th>value</th>\n",
       "      <th>label</th>\n",
       "      <th>KPI ID</th>\n",
       "    </tr>\n",
       "  </thead>\n",
       "  <tbody>\n",
       "    <tr>\n",
       "      <th>0</th>\n",
       "      <td>1476460800</td>\n",
       "      <td>0.012604</td>\n",
       "      <td>0</td>\n",
       "      <td>da10a69f-d836-3baa-ad40-3e548ecf1fbd</td>\n",
       "    </tr>\n",
       "    <tr>\n",
       "      <th>1</th>\n",
       "      <td>1476460860</td>\n",
       "      <td>0.017786</td>\n",
       "      <td>0</td>\n",
       "      <td>da10a69f-d836-3baa-ad40-3e548ecf1fbd</td>\n",
       "    </tr>\n",
       "    <tr>\n",
       "      <th>2</th>\n",
       "      <td>1476460920</td>\n",
       "      <td>0.012014</td>\n",
       "      <td>0</td>\n",
       "      <td>da10a69f-d836-3baa-ad40-3e548ecf1fbd</td>\n",
       "    </tr>\n",
       "    <tr>\n",
       "      <th>3</th>\n",
       "      <td>1476460980</td>\n",
       "      <td>0.017062</td>\n",
       "      <td>0</td>\n",
       "      <td>da10a69f-d836-3baa-ad40-3e548ecf1fbd</td>\n",
       "    </tr>\n",
       "    <tr>\n",
       "      <th>4</th>\n",
       "      <td>1476461040</td>\n",
       "      <td>0.023632</td>\n",
       "      <td>0</td>\n",
       "      <td>da10a69f-d836-3baa-ad40-3e548ecf1fbd</td>\n",
       "    </tr>\n",
       "  </tbody>\n",
       "</table>\n",
       "</div>"
      ],
      "text/plain": [
       "    timestamp     value  label                                KPI ID\n",
       "0  1476460800  0.012604      0  da10a69f-d836-3baa-ad40-3e548ecf1fbd\n",
       "1  1476460860  0.017786      0  da10a69f-d836-3baa-ad40-3e548ecf1fbd\n",
       "2  1476460920  0.012014      0  da10a69f-d836-3baa-ad40-3e548ecf1fbd\n",
       "3  1476460980  0.017062      0  da10a69f-d836-3baa-ad40-3e548ecf1fbd\n",
       "4  1476461040  0.023632      0  da10a69f-d836-3baa-ad40-3e548ecf1fbd"
      ]
     },
     "execution_count": 2,
     "metadata": {},
     "output_type": "execute_result"
    }
   ],
   "source": [
    "df = pd.read_csv(\"../data/phase2_train.csv\", sep=\",\", index_col=None)\n",
    "print(df.shape)\n",
    "pd.options.display.max_columns = None\n",
    "df.head(5)"
   ]
  },
  {
   "cell_type": "code",
   "execution_count": 3,
   "metadata": {},
   "outputs": [
    {
     "name": "stdout",
     "output_type": "stream",
     "text": [
      "         timestamp  value  label                                KPI ID\n",
      "200000  1495288320    0.0      0  7103fa0f-cac4-314f-addc-866190247439\n",
      "200001  1495288380    0.0      0  7103fa0f-cac4-314f-addc-866190247439\n",
      "200002  1495288440    0.0      0  7103fa0f-cac4-314f-addc-866190247439\n",
      "200003  1495288500    0.0      0  7103fa0f-cac4-314f-addc-866190247439\n",
      "200004  1495288560    0.0      0  7103fa0f-cac4-314f-addc-866190247439\n",
      "200005  1495288620    0.0      0  7103fa0f-cac4-314f-addc-866190247439\n",
      "200006  1495288680    0.0      0  7103fa0f-cac4-314f-addc-866190247439\n",
      "200007  1495288740    0.0      0  7103fa0f-cac4-314f-addc-866190247439\n",
      "200008  1495288800    0.0      0  7103fa0f-cac4-314f-addc-866190247439\n",
      "200009  1495288860    0.0      0  7103fa0f-cac4-314f-addc-866190247439\n",
      "200010  1495288920    0.0      0  7103fa0f-cac4-314f-addc-866190247439\n",
      "200011  1495288980    0.0      0  7103fa0f-cac4-314f-addc-866190247439\n",
      "200012  1495289040    0.0      0  7103fa0f-cac4-314f-addc-866190247439\n",
      "200013  1495289100    0.0      0  7103fa0f-cac4-314f-addc-866190247439\n",
      "200014  1495289160    0.0      0  7103fa0f-cac4-314f-addc-866190247439\n",
      "200015  1495289220    0.0      0  7103fa0f-cac4-314f-addc-866190247439\n",
      "200016  1495289280    0.0      0  7103fa0f-cac4-314f-addc-866190247439\n",
      "200017  1495289340    0.0      0  7103fa0f-cac4-314f-addc-866190247439\n",
      "200018  1495289400    0.0      0  7103fa0f-cac4-314f-addc-866190247439\n",
      "200019  1495289460    0.0      0  7103fa0f-cac4-314f-addc-866190247439\n",
      "200020  1495289520    0.0      0  7103fa0f-cac4-314f-addc-866190247439\n",
      "200021  1495289580    0.0      0  7103fa0f-cac4-314f-addc-866190247439\n",
      "200022  1495289640    0.0      0  7103fa0f-cac4-314f-addc-866190247439\n",
      "200023  1495289700    0.0      0  7103fa0f-cac4-314f-addc-866190247439\n",
      "200024  1495289760    0.0      0  7103fa0f-cac4-314f-addc-866190247439\n",
      "200025  1495289820    0.0      0  7103fa0f-cac4-314f-addc-866190247439\n",
      "200026  1495289880    0.0      0  7103fa0f-cac4-314f-addc-866190247439\n",
      "200027  1495289940    0.0      0  7103fa0f-cac4-314f-addc-866190247439\n",
      "200028  1495290000    0.0      0  7103fa0f-cac4-314f-addc-866190247439\n",
      "200029  1495290060    0.0      0  7103fa0f-cac4-314f-addc-866190247439\n",
      "...            ...    ...    ...                                   ...\n",
      "299970  1501430880    0.0      0  7103fa0f-cac4-314f-addc-866190247439\n",
      "299971  1501430940    0.0      0  7103fa0f-cac4-314f-addc-866190247439\n",
      "299972  1501431000    0.0      0  7103fa0f-cac4-314f-addc-866190247439\n",
      "299973  1501431060    0.0      0  7103fa0f-cac4-314f-addc-866190247439\n",
      "299974  1501431120    6.0      0  7103fa0f-cac4-314f-addc-866190247439\n",
      "299975  1501431180    0.0      0  7103fa0f-cac4-314f-addc-866190247439\n",
      "299976  1501431240    0.0      0  7103fa0f-cac4-314f-addc-866190247439\n",
      "299977  1501431300    0.0      0  7103fa0f-cac4-314f-addc-866190247439\n",
      "299978  1501431360    0.0      0  7103fa0f-cac4-314f-addc-866190247439\n",
      "299979  1501431420    0.0      0  7103fa0f-cac4-314f-addc-866190247439\n",
      "299980  1501431480    0.0      0  7103fa0f-cac4-314f-addc-866190247439\n",
      "299981  1501431540    0.0      0  7103fa0f-cac4-314f-addc-866190247439\n",
      "299982  1501431600    0.0      0  7103fa0f-cac4-314f-addc-866190247439\n",
      "299983  1501431660    0.0      0  7103fa0f-cac4-314f-addc-866190247439\n",
      "299984  1501431720    0.0      0  7103fa0f-cac4-314f-addc-866190247439\n",
      "299985  1501431780    0.0      0  7103fa0f-cac4-314f-addc-866190247439\n",
      "299986  1501431840    0.0      0  7103fa0f-cac4-314f-addc-866190247439\n",
      "299987  1501431900    0.0      0  7103fa0f-cac4-314f-addc-866190247439\n",
      "299988  1501431960    0.0      0  7103fa0f-cac4-314f-addc-866190247439\n",
      "299989  1501432020    0.0      0  7103fa0f-cac4-314f-addc-866190247439\n",
      "299990  1501432080    0.0      0  7103fa0f-cac4-314f-addc-866190247439\n",
      "299991  1501432140    0.0      0  7103fa0f-cac4-314f-addc-866190247439\n",
      "299992  1501432200    0.0      0  7103fa0f-cac4-314f-addc-866190247439\n",
      "299993  1501432260    0.0      0  7103fa0f-cac4-314f-addc-866190247439\n",
      "299994  1501432320    0.0      0  7103fa0f-cac4-314f-addc-866190247439\n",
      "299995  1501432380    0.0      0  7103fa0f-cac4-314f-addc-866190247439\n",
      "299996  1501432440    0.0      0  7103fa0f-cac4-314f-addc-866190247439\n",
      "299997  1501432500    0.0      0  7103fa0f-cac4-314f-addc-866190247439\n",
      "299998  1501432560    0.0      0  7103fa0f-cac4-314f-addc-866190247439\n",
      "299999  1501432620   12.4      0  7103fa0f-cac4-314f-addc-866190247439\n",
      "\n",
      "[100000 rows x 4 columns]\n"
     ]
    }
   ],
   "source": [
    "print(df[200000:300000])"
   ]
  },
  {
   "cell_type": "code",
   "execution_count": 3,
   "metadata": {},
   "outputs": [
    {
     "name": "stdout",
     "output_type": "stream",
     "text": [
      "0    99905\n",
      "1       95\n",
      "Name: label, dtype: int64\n",
      "test 0    1400\n",
      "1      10\n",
      "Name: label, dtype: int64\n",
      "validation 0    1246\n",
      "1      10\n",
      "Name: label, dtype: int64\n"
     ]
    }
   ],
   "source": [
    "data= df[[\"value\",\"label\"]]\n",
    "a=data[ 200000:300000]##点集epoch=22 \n",
    "print(a['label'].value_counts())\n",
    "normal=a[(a['label']== 0) ]#\n",
    "normal=normal[~normal['value'].isin([0])]\n",
    "normal=normal[\"value\"]\n",
    "validation=data[220000:250000]#\n",
    "validation=validation[~validation['value'].isin([0])]\n",
    "test=data[190000:220000]#\n",
    "test=test[~test['value'].isin([0])]\n",
    "for i in range(len(test)):\n",
    "    if((test.iloc[i,0] < 200) and (test.iloc[i,1] == 1)):\n",
    "        test.iloc[i,1]=0        \n",
    "test_label=test['label']\n",
    "test_label=test_label.tolist()\n",
    "print(\"test\",test['label'].value_counts())\n",
    "print(\"validation\",validation['label'].value_counts())\n",
    "test_copy=test[\"value\"]"
   ]
  },
  {
   "cell_type": "code",
   "execution_count": 4,
   "metadata": {},
   "outputs": [
    {
     "name": "stdout",
     "output_type": "stream",
     "text": [
      "validation (25, 50, 1)\n",
      "train (96, 50, 1)\n",
      "test (28, 50, 1)\n"
     ]
    }
   ],
   "source": [
    "test=np.array(test['value'])\n",
    "validation=np.array(validation['value'])\n",
    "train=np.array(normal)\n",
    "timesquence=50\n",
    "trim=len(train)%timesquence\n",
    "train=train[:len(train)-trim]\n",
    "train.shape=(int(len(train)/timesquence),timesquence,1)\n",
    "trim=len(validation)%timesquence\n",
    "validation=validation[:len(validation)-trim]\n",
    "validation.shape=(int(len(validation)/timesquence),timesquence,1)\n",
    "print(\"validation\",validation.shape)\n",
    "print(\"train\",train.shape)\n",
    "trim=len(test)%timesquence\n",
    "test_label=test_label[:len(test)-trim]\n",
    "test=test[:len(test)-trim]\n",
    "test.shape=(int(len(test)/timesquence),timesquence,1)\n",
    "print(\"test\",test.shape)"
   ]
  },
  {
   "cell_type": "code",
   "execution_count": 5,
   "metadata": {},
   "outputs": [
    {
     "name": "stdout",
     "output_type": "stream",
     "text": [
      "[1, 2, 4, 8]\n",
      "Model: \"model_1\"\n",
      "_________________________________________________________________\n",
      "Layer (type)                 Output Shape              Param #   \n",
      "=================================================================\n",
      "input_1 (InputLayer)         (None, None, 1)           0         \n",
      "_________________________________________________________________\n",
      "conv1d_1 (Conv1D)            (None, None, 32)          96        \n",
      "_________________________________________________________________\n",
      "conv1d_2 (Conv1D)            (None, None, 32)          2080      \n",
      "_________________________________________________________________\n",
      "conv1d_3 (Conv1D)            (None, None, 32)          2080      \n",
      "_________________________________________________________________\n",
      "conv1d_4 (Conv1D)            (None, None, 32)          2080      \n",
      "_________________________________________________________________\n",
      "dense_1 (Dense)              (None, None, 128)         4224      \n",
      "_________________________________________________________________\n",
      "dropout_1 (Dropout)          (None, None, 128)         0         \n",
      "_________________________________________________________________\n",
      "dense_2 (Dense)              (None, None, 1)           129       \n",
      "_________________________________________________________________\n",
      "lambda_1 (Lambda)            (None, None, 1)           0         \n",
      "=================================================================\n",
      "Total params: 10,689\n",
      "Trainable params: 10,689\n",
      "Non-trainable params: 0\n",
      "_________________________________________________________________\n"
     ]
    }
   ],
   "source": [
    "# convolutional layer parameters\n",
    "from keras.layers import  Lambda\n",
    "n_filters = 32 \n",
    "filter_width = 2\n",
    "dilation_rates = [2**i for i in range(4)] \n",
    "print(dilation_rates)\n",
    "# define an input history series and pass it through a stack of dilated causal convolutions. \n",
    "history_seq = Input(shape=(None, 1))\n",
    "x = history_seq\n",
    "for dilation_rate in dilation_rates:\n",
    "    x = Conv1D(filters=n_filters,\n",
    "               kernel_size=filter_width, \n",
    "              kernel_regularizer=regularizers.l2(0.02),\n",
    "               padding='causal',\n",
    "               dilation_rate=dilation_rate,activation='relu')(x)\n",
    "\n",
    "x = Dense(128, activation='relu')(x)\n",
    "x = Dropout(.2)(x)\n",
    "x = Dense(1)(x)\n",
    "# extract the last 14 time steps as the training target\n",
    "def slice(x, seq_length):\n",
    "    return x[:,-seq_length:,:]\n",
    "pred_seq_train = Lambda(slice, arguments={'seq_length':timesquence})(x)\n",
    "\n",
    "TCN = Model(history_seq, pred_seq_train)\n",
    "TCN.compile(optimizer=optimizers.Adam(), loss='mean_absolute_error')\n",
    "TCN.summary()"
   ]
  },
  {
   "cell_type": "code",
   "execution_count": 6,
   "metadata": {},
   "outputs": [
    {
     "name": "stdout",
     "output_type": "stream",
     "text": [
      "Train on 96 samples, validate on 25 samples\n",
      "Epoch 1/49\n",
      "96/96 [==============================] - 4s 44ms/step - loss: 16.3243 - val_loss: 19.6924\n",
      "Epoch 2/49\n",
      "96/96 [==============================] - 0s 1ms/step - loss: 15.9620 - val_loss: 19.2509\n",
      "Epoch 3/49\n",
      "96/96 [==============================] - 0s 893us/step - loss: 15.6442 - val_loss: 18.8448\n",
      "Epoch 4/49\n",
      "96/96 [==============================] - 0s 914us/step - loss: 15.3507 - val_loss: 18.4621\n",
      "Epoch 5/49\n",
      "96/96 [==============================] - 0s 893us/step - loss: 15.0725 - val_loss: 18.0908\n",
      "Epoch 6/49\n",
      "96/96 [==============================] - 0s 883us/step - loss: 14.8016 - val_loss: 17.7267\n",
      "Epoch 7/49\n",
      "96/96 [==============================] - 0s 925us/step - loss: 14.5188 - val_loss: 17.3748\n",
      "Epoch 8/49\n",
      "96/96 [==============================] - 0s 925us/step - loss: 14.2182 - val_loss: 17.0104\n",
      "Epoch 9/49\n",
      "96/96 [==============================] - 0s 842us/step - loss: 13.8977 - val_loss: 16.6199\n",
      "Epoch 10/49\n",
      "96/96 [==============================] - 0s 873us/step - loss: 13.5341 - val_loss: 16.2030\n",
      "Epoch 11/49\n",
      "96/96 [==============================] - 0s 893us/step - loss: 13.1124 - val_loss: 15.7540\n",
      "Epoch 12/49\n",
      "96/96 [==============================] - 0s 862us/step - loss: 12.6666 - val_loss: 15.2636\n",
      "Epoch 13/49\n",
      "96/96 [==============================] - 0s 893us/step - loss: 12.1463 - val_loss: 14.7447\n",
      "Epoch 14/49\n",
      "96/96 [==============================] - 0s 852us/step - loss: 11.5972 - val_loss: 14.2191\n",
      "Epoch 15/49\n",
      "96/96 [==============================] - 0s 831us/step - loss: 10.9902 - val_loss: 13.7049\n",
      "Epoch 16/49\n",
      "96/96 [==============================] - 0s 893us/step - loss: 10.3559 - val_loss: 13.2146\n",
      "Epoch 17/49\n",
      "96/96 [==============================] - 0s 951us/step - loss: 9.7385 - val_loss: 12.8439\n",
      "Epoch 18/49\n",
      "96/96 [==============================] - 0s 873us/step - loss: 9.1403 - val_loss: 12.6289\n",
      "Epoch 19/49\n",
      "96/96 [==============================] - 0s 862us/step - loss: 8.7156 - val_loss: 12.6219\n",
      "Epoch 20/49\n",
      "96/96 [==============================] - 0s 893us/step - loss: 8.4809 - val_loss: 12.8668\n",
      "Epoch 21/49\n",
      "96/96 [==============================] - 0s 841us/step - loss: 8.5033 - val_loss: 13.2304\n",
      "Epoch 22/49\n",
      "96/96 [==============================] - 0s 904us/step - loss: 8.6916 - val_loss: 13.5775\n",
      "Epoch 23/49\n",
      "96/96 [==============================] - 0s 987us/step - loss: 8.8779 - val_loss: 13.7882\n",
      "Epoch 24/49\n",
      "96/96 [==============================] - 0s 852us/step - loss: 9.0136 - val_loss: 13.8017\n",
      "Epoch 25/49\n",
      "96/96 [==============================] - 0s 925us/step - loss: 8.9936 - val_loss: 13.6339\n",
      "Epoch 26/49\n",
      "96/96 [==============================] - 0s 873us/step - loss: 8.8843 - val_loss: 13.3361\n",
      "Epoch 27/49\n",
      "96/96 [==============================] - 0s 842us/step - loss: 8.7158 - val_loss: 12.9590\n",
      "Epoch 28/49\n",
      "96/96 [==============================] - 0s 925us/step - loss: 8.4696 - val_loss: 12.5690\n",
      "Epoch 29/49\n",
      "96/96 [==============================] - 0s 862us/step - loss: 8.2670 - val_loss: 12.2130\n",
      "Epoch 30/49\n",
      "96/96 [==============================] - 0s 842us/step - loss: 8.0573 - val_loss: 11.9035\n",
      "Epoch 31/49\n",
      "96/96 [==============================] - 0s 883us/step - loss: 7.8647 - val_loss: 11.6482\n",
      "Epoch 32/49\n",
      "96/96 [==============================] - 0s 893us/step - loss: 7.7701 - val_loss: 11.4535\n",
      "Epoch 33/49\n",
      "96/96 [==============================] - 0s 852us/step - loss: 7.6980 - val_loss: 11.2999\n",
      "Epoch 34/49\n",
      "96/96 [==============================] - 0s 810us/step - loss: 7.6601 - val_loss: 11.1686\n",
      "Epoch 35/49\n",
      "96/96 [==============================] - 0s 883us/step - loss: 7.6166 - val_loss: 11.0424\n",
      "Epoch 36/49\n",
      "96/96 [==============================] - 0s 893us/step - loss: 7.5450 - val_loss: 10.9066\n",
      "Epoch 37/49\n",
      "96/96 [==============================] - 0s 883us/step - loss: 7.4804 - val_loss: 10.7555\n",
      "Epoch 38/49\n",
      "96/96 [==============================] - 0s 842us/step - loss: 7.3371 - val_loss: 10.5889\n",
      "Epoch 39/49\n",
      "96/96 [==============================] - 0s 862us/step - loss: 7.2760 - val_loss: 10.4121\n",
      "Epoch 40/49\n",
      "96/96 [==============================] - 0s 893us/step - loss: 7.1175 - val_loss: 10.2312\n",
      "Epoch 41/49\n",
      "96/96 [==============================] - 0s 852us/step - loss: 6.9752 - val_loss: 10.0545\n",
      "Epoch 42/49\n",
      "96/96 [==============================] - 0s 852us/step - loss: 6.7914 - val_loss: 9.8891\n",
      "Epoch 43/49\n",
      "96/96 [==============================] - 0s 904us/step - loss: 6.6569 - val_loss: 9.7397\n",
      "Epoch 44/49\n",
      "96/96 [==============================] - 0s 893us/step - loss: 6.5687 - val_loss: 9.5921\n",
      "Epoch 45/49\n",
      "96/96 [==============================] - 0s 831us/step - loss: 6.4340 - val_loss: 9.4247\n",
      "Epoch 46/49\n",
      "96/96 [==============================] - 0s 852us/step - loss: 6.2884 - val_loss: 9.2120\n",
      "Epoch 47/49\n",
      "96/96 [==============================] - 0s 893us/step - loss: 6.1501 - val_loss: 8.9425\n",
      "Epoch 48/49\n",
      "96/96 [==============================] - 0s 887us/step - loss: 5.9853 - val_loss: 8.6265\n",
      "Epoch 49/49\n",
      "96/96 [==============================] - 0s 838us/step - loss: 5.8151 - val_loss: 8.2845\n"
     ]
    }
   ],
   "source": [
    "from keras.callbacks import TensorBoard\n",
    "tensorboard=tensorflow.keras.callbacks.TensorBoard(histogram_freq=1)\n",
    "history=TCN.fit(train, train,\n",
    "          batch_size=2**9,\n",
    "          epochs=49,#40 50\n",
    "          \n",
    "          validation_data=(validation, validation))\n",
    "         # callbacks = [tensorboard])\n"
   ]
  },
  {
   "cell_type": "code",
   "execution_count": 7,
   "metadata": {},
   "outputs": [
    {
     "data": {
      "text/plain": [
       "<matplotlib.legend.Legend at 0x224945ec710>"
      ]
     },
     "execution_count": 7,
     "metadata": {},
     "output_type": "execute_result"
    },
    {
     "data": {
      "image/png": "[encoded data removed]",
      "text/plain": [
       "<Figure size 432x288 with 1 Axes>"
      ]
     },
     "metadata": {
      "needs_background": "light"
     },
     "output_type": "display_data"
    }
   ],
   "source": [
    "plt.plot(history.history['loss'])\n",
    "plt.plot(history.history['val_loss'])\n",
    "\n",
    "plt.xlabel('Epoch')\n",
    "plt.ylabel('Mean Absolute Error Loss')\n",
    "plt.title('Loss Over Time')\n",
    "plt.legend(['Train','Valid'])"
   ]
  },
  {
   "cell_type": "code",
   "execution_count": 8,
   "metadata": {},
   "outputs": [
    {
     "name": "stdout",
     "output_type": "stream",
     "text": [
      "(28, 50, 1)\n"
     ]
    }
   ],
   "source": [
    "test_pred = TCN.predict(test)\n",
    "print(test_pred.shape)\n",
    "# print(test[0:20])\n",
    "# print(\"-------------------------\")\n",
    "# print(test_pred[0:10])\n"
   ]
  },
  {
   "cell_type": "code",
   "execution_count": 9,
   "metadata": {},
   "outputs": [
    {
     "data": {
      "text/plain": [
       "<matplotlib.legend.Legend at 0x22494912710>"
      ]
     },
     "execution_count": 9,
     "metadata": {},
     "output_type": "execute_result"
    },
    {
     "data": {
      "image/png": "[encoded data removed]",
      "text/plain": [
       "<Figure size 1080x432 with 1 Axes>"
      ]
     },
     "metadata": {
      "needs_background": "light"
     },
     "output_type": "display_data"
    }
   ],
   "source": [
    "from matplotlib.pyplot import MultipleLocator\n",
    "test1=test.reshape(test.shape[0]*test.shape[1],1)\n",
    "test_pred1=test_pred.reshape(test_pred.shape[0]*test_pred.shape[1],1)\n",
    "plt.figure(figsize=(15,6))\n",
    "plt.xlabel('time',fontsize=14)\n",
    "plt.ylabel('value',fontsize=14)\n",
    "y_major_locator=MultipleLocator(100)\n",
    "ax=plt.gca()\n",
    "ax.yaxis.set_major_locator(y_major_locator)\n",
    "#plt.ylim(0,1000)\n",
    "plt.plot(test1[0:],color=\"green\")\n",
    "plt.plot(test_pred1[0:],color=\"orange\",linestyle='-')\n",
    "for i in range(len(test1)):\n",
    "    if test_label[i] == 1:\n",
    "        plt.scatter(i,test1[i],color=\"red\")          \n",
    "plt.legend(('test','pred_test','anomaly data'),loc='upper right',fontsize='x-large')\n"
   ]
  },
  {
   "cell_type": "code",
   "execution_count": 114,
   "metadata": {},
   "outputs": [
    {
     "name": "stdout",
     "output_type": "stream",
     "text": [
      "[1.34840012e-02 1.79347992e-02 2.14915276e-02 ... 4.62389954e+02\n",
      " 5.31067169e+02 5.53390350e+02]\n"
     ]
    }
   ],
   "source": [
    "#点集检测\n",
    "pred_label=[]\n",
    "for i in range(len(test1)):\n",
    "    pred_label.append(0)#正常\n",
    "\n",
    "PAsum_rela_erro=np.zeros((len(pred_label)), dtype = float)\n",
    "for i in range(len(pred_label)):\n",
    "    PAsum_rela_erro[i]=np.abs(test1[i]-test_pred1[i])\n",
    "PAscores=PAsum_rela_erro.copy()\n",
    "PAscores.sort()\n",
    "print(PAscores)\n"
   ]
  },
  {
   "cell_type": "code",
   "execution_count": 115,
   "metadata": {
    "scrolled": true
   },
   "outputs": [
    {
     "data": {
      "text/plain": [
       "0.42009162898642494"
      ]
     },
     "execution_count": 115,
     "metadata": {},
     "output_type": "execute_result"
    }
   ],
   "source": [
    "PAscores[100]"
   ]
  },
  {
   "cell_type": "code",
   "execution_count": 118,
   "metadata": {},
   "outputs": [
    {
     "name": "stdout",
     "output_type": "stream",
     "text": [
      "165\n"
     ]
    }
   ],
   "source": [
    "PAcutoff=int(0.989*len(PAscores))\n",
    "PAthreshold=165#PAscores[PAcutoff]\n",
    "print(PAthreshold)"
   ]
  },
  {
   "cell_type": "code",
   "execution_count": 119,
   "metadata": {},
   "outputs": [],
   "source": [
    "for i in range(len(test1)):\n",
    "    if PAsum_rela_erro[i] > PAthreshold:\n",
    "        pred_label[i]=2 #异常"
   ]
  },
  {
   "cell_type": "code",
   "execution_count": 120,
   "metadata": {},
   "outputs": [
    {
     "name": "stdout",
     "output_type": "stream",
     "text": [
      "[  0.           1.46567959   2.5          3.55167532   3.65864944\n",
      "   4.07999206   4.77600527   5.15604734   5.31653213   5.32618999\n",
      "   5.34170055   5.37686539   5.41836643   5.67611265   5.77528095\n",
      "   6.0044446    6.09455371   6.27355766   6.35005379   6.42952776\n",
      "   6.49439287   6.54181099   6.65258026   7.21671963   7.27829552\n",
      "   7.30146122   7.7960062    7.9714036    8.01516008   8.12080252\n",
      "   8.13988447   8.1689043    8.17096043   8.18362808   8.19663906\n",
      "   8.56267357   8.71891719   9.1441164    9.17156124   9.18723774\n",
      "   9.23538542   9.28323269   9.33128166   9.37520838   9.39442635\n",
      "   9.52116942   9.61297417   9.65038109   9.90674591  10.01654911\n",
      "  10.01811218  10.02245045  10.28138971  10.38730907  10.56291592\n",
      "  10.56712818  10.72058582  10.93872356  11.13969517  11.30805254\n",
      "  11.39040756  11.39674997  11.54478168  11.6200161   11.78993452\n",
      "  11.89987659  11.94815779  12.09792757  12.13697052  12.32885134\n",
      "  12.36465919  12.40906429  12.58589125  12.60752869  12.97053576\n",
      "  13.08413029  13.26167965  13.26363087  13.64324808  13.72253084\n",
      "  13.75572252  13.85789299  14.0042491   14.07178307  14.09383744\n",
      "  14.51455104  14.72935581  14.84519196  14.86728764  14.88247585\n",
      "  14.90661812  14.92105722  14.97855949  15.01811272  15.05755138\n",
      "  15.10134214  15.19581032  15.55480766  15.55987644  15.71014404\n",
      "  15.75505495  15.82727742  15.86203909  15.92579985  15.92876244\n",
      "  15.99274158  16.18136239  16.20945454  16.40848553  16.56240058\n",
      "  16.60155869  16.76180744  16.85974264  16.96886635  17.1027422\n",
      "  17.11845189  17.14047241  17.25811958  17.32547855  17.39132977\n",
      "  17.39711952  17.44204998  17.51433086  17.51765412  17.58835399\n",
      "  17.68688536  17.77462292  17.82315159  17.85945714  17.89815378\n",
      "  18.37130737  18.40389252  18.57190037  18.58684731  18.68096113\n",
      "  18.70927238  18.81069851  18.97425747  19.01260662  19.05207586\n",
      "  19.24488002  19.28895235  19.40085897  19.60944605  19.61817265\n",
      "  19.6724987   20.03185511  20.34781027  20.41987658  20.53698492\n",
      "  20.74048162  20.76945436  21.1131711   21.54455471  21.87887526\n",
      "  22.00712728  22.4472208   22.82930756  22.83733273  22.98393631\n",
      "  23.00027514  23.05879879  23.15000081  23.28111553  23.51970226\n",
      "  23.65201128  23.65457535  23.78070164  23.86643386  23.89120245\n",
      "  23.90428782  23.96381497  24.03472424  24.13079834  24.1777482\n",
      "  24.43891048  24.47086811  24.59003735  24.69511843  24.88855171\n",
      "  25.14281654  25.67274284  25.69451332  25.72769856  25.94539022\n",
      "  26.12930346  26.15949821  26.73333454  26.94470119  27.02770901\n",
      "  27.43939257  27.67720699  27.80302906  27.82716942  27.99513519\n",
      "  28.12924099  28.36380768  28.71789217  29.32703829  29.37074244\n",
      "  29.66890049  29.84277487  29.84970331  31.44592142  31.67816639\n",
      "  32.0655098   32.089118    32.25489116  32.30278492  32.67108107\n",
      "  32.71772748  33.11473054  33.72203636  34.19351435  35.51363802\n",
      "  35.71406412  35.93255091  36.9513607   37.54184914  37.57165051\n",
      "  38.03691053  38.10006809  38.33207607  38.82201916  38.88227653\n",
      "  39.14405489  40.2310524   40.67614746  41.31843567  42.05447978\n",
      "  43.19278073  43.74134159  43.77990913  43.91361094  44.55090714\n",
      "  45.57121181  45.97832251  46.34197903  48.36475849  51.92542171\n",
      "  52.15561008  53.15238285  53.90425682  54.33563042  55.12412739\n",
      "  57.04604769  61.98831558  62.53469276  66.34379059  66.34891367\n",
      "  67.1736446   67.59489202  69.42758417  69.60700178  70.95588446\n",
      "  73.73170948  74.48900032  76.74186802  77.8208642   87.78916502\n",
      "  89.48515749  96.71990728  96.85978985 104.41294193 106.60277557\n",
      " 107.37566137 108.57753754 109.68081379 143.49878502 143.98167706\n",
      " 148.95334625 155.90624046 164.40959215 171.07179737 172.26163101\n",
      " 182.62803459 190.43838358 258.09223938 262.64027119 265.58230782\n",
      " 315.99085236]\n"
     ]
    }
   ],
   "source": [
    "normal_rela_erro=0.5\n",
    "#集体集检测\n",
    "timestep=5\n",
    "n=int(len(pred_label)/timestep)\n",
    "CAsum_rela_erro=np.zeros(n+1, dtype = float)\n",
    "for i in range(0,len(test1),timestep):\n",
    "    for j in range(timestep):\n",
    "            if ((i+j)<len(pred_label)) and (pred_label[i+j]==0):\n",
    "                rela_erro=np.abs(test1[i+j]-test_pred1[i+j])\n",
    "                CAsum_rela_erro[int(i/timestep)]=rela_erro+CAsum_rela_erro[int(i/timestep)]\n",
    "              #  print()\n",
    "            else:\n",
    "                CAsum_rela_erro[int(i/timestep)]=normal_rela_erro+CAsum_rela_erro[int(i/timestep)]\n",
    "                \n",
    "                \n",
    "CAscores=CAsum_rela_erro.copy()\n",
    "CAscores.sort()\n",
    "print(CAscores)\n"
   ]
  },
  {
   "cell_type": "code",
   "execution_count": 121,
   "metadata": {},
   "outputs": [
    {
     "name": "stdout",
     "output_type": "stream",
     "text": [
      "262.64027118688483\n"
     ]
    }
   ],
   "source": [
    "CAcutoff=int(0.99*len(CAscores))\n",
    "CAthreshold=500#CAscores[CAcutoff]\n",
    "print(CAscores[CAcutoff])"
   ]
  },
  {
   "cell_type": "code",
   "execution_count": 122,
   "metadata": {},
   "outputs": [],
   "source": [
    "for i in range(n+1):\n",
    "    if CAsum_rela_erro[i] > CAthreshold:\n",
    "        for j in range(timestep):\n",
    "            if i*timestep+j<len(pred_label) and pred_label[i*timestep+j]!=2:\n",
    "                pred_label[i*timestep+j]=1\n",
    "        "
   ]
  },
  {
   "cell_type": "code",
   "execution_count": 123,
   "metadata": {},
   "outputs": [],
   "source": [
    "Perro_x=[]\n",
    "Perro_y=[]\n",
    "Cerro_x=[]\n",
    "Cerro_y=[]\n",
    "for i in range(len(test1)):\n",
    "    if pred_label[i]==2:\n",
    "        Perro_x.append(i)\n",
    "        Perro_y.append(test1[i])\n",
    "    elif pred_label[i]==1:\n",
    "        Cerro_x.append(i)\n",
    "        Cerro_y.append(test1[i])"
   ]
  },
  {
   "cell_type": "code",
   "execution_count": 124,
   "metadata": {},
   "outputs": [
    {
     "data": {
      "text/plain": [
       "<matplotlib.legend.Legend at 0x224978ce4a8>"
      ]
     },
     "execution_count": 124,
     "metadata": {},
     "output_type": "execute_result"
    },
    {
     "data": {
      "image/png": "[encoded data removed]",
      "text/plain": [
       "<Figure size 1080x432 with 1 Axes>"
      ]
     },
     "metadata": {
      "needs_background": "light"
     },
     "output_type": "display_data"
    }
   ],
   "source": [
    "from matplotlib.pyplot import MultipleLocator\n",
    "test1=test.reshape(test.shape[0]*test.shape[1],1)\n",
    "test_pred1=test_pred.reshape(test_pred.shape[0]*test_pred.shape[1],1)\n",
    "plt.figure(figsize=(15,6))\n",
    "plt.xlabel('time',fontsize=14)\n",
    "plt.ylabel('value',fontsize=14)\n",
    "y_major_locator=MultipleLocator(100)\n",
    "ax=plt.gca()\n",
    "ax.yaxis.set_major_locator(y_major_locator)\n",
    "#plt.ylim(0,1000)\n",
    "plt.plot(test1[0:],color=\"green\",label='test')\n",
    "plt.plot(test_pred1[0:],color=\"orange\",linestyle='-',label='pred_test')\n",
    "plt.scatter(Cerro_x,Cerro_y,color=\"red\",label='CA_data')\n",
    "plt.scatter(Perro_x,Perro_y,color=\"blue\",marker=\"X\",label='PA_data')          \n",
    "plt.legend()\n"
   ]
  },
  {
   "cell_type": "code",
   "execution_count": 125,
   "metadata": {},
   "outputs": [],
   "source": [
    "Pred_label=[]\n",
    "for i in range(len(pred_label)):\n",
    "    if pred_label[i]==0:\n",
    "        Pred_label.append(0)\n",
    "    else:\n",
    "        Pred_label.append(1)"
   ]
  },
  {
   "cell_type": "code",
   "execution_count": 126,
   "metadata": {},
   "outputs": [
    {
     "name": "stdout",
     "output_type": "stream",
     "text": [
      "CA: 0\n",
      "PA: 15\n",
      "ROC_AUC score:99.820144%\n",
      "PR-AUC score:83.333333%\n"
     ]
    }
   ],
   "source": [
    "print(\"CA:\",pred_label.count(1))\n",
    "print(\"PA:\",pred_label.count(2))\n",
    "ROC=roc_auc_score(test_label,Pred_label)\n",
    "print(\"ROC_AUC score:{:2%}\".format(ROC))  \n",
    "precision, recall, _thresholds = precision_recall_curve(test_label, Pred_label)\n",
    "PR_AUC = auc(recall, precision)\n",
    "print(\"PR-AUC score:{:2%}\".format(PR_AUC)) "
   ]
  },
  {
   "cell_type": "code",
   "execution_count": 127,
   "metadata": {},
   "outputs": [
    {
     "data": {
      "image/png": "[encoded data removed]",
      "text/plain": [
       "<Figure size 432x288 with 2 Axes>"
      ]
     },
     "metadata": {
      "needs_background": "light"
     },
     "output_type": "display_data"
    }
   ],
   "source": [
    "class Visualization:\n",
    "    labels = [\"Normal\", \"Anomaly\"]\n",
    "\n",
    "    def draw_confusion_matrix(self, y, ypred):\n",
    "        matrix = confusion_matrix(y, ypred)\n",
    "\n",
    "        plt.figure(figsize=(6, 4))\n",
    "        colors=[ \"orange\",\"green\"]\n",
    "        sns.heatmap(matrix, xticklabels=self.labels, yticklabels=self.labels, cmap=colors, annot=True, fmt=\"d\")\n",
    "        plt.title(\"Confusion Matrix\")\n",
    "        plt.ylabel('Actual')\n",
    "        plt.xlabel('Predicted')\n",
    "        plt.show()\n",
    "\n",
    "viz = Visualization()\n",
    "viz.draw_confusion_matrix(test_label,Pred_label)"
   ]
  }
 ],
 "metadata": {
  "kernelspec": {
   "display_name": "Python 3",
   "language": "python",
   "name": "python3"
  },
  "language_info": {
   "codemirror_mode": {
    "name": "ipython",
    "version": 3
   },
   "file_extension": ".py",
   "mimetype": "text/x-python",
   "name": "python",
   "nbconvert_exporter": "python",
   "pygments_lexer": "ipython3",
   "version": "3.7.0"
  }
 },
 "nbformat": 4,
 "nbformat_minor": 2
}
