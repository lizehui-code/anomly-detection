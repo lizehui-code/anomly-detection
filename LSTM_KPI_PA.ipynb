{
 "cells": [
  {
   "cell_type": "code",
   "execution_count": 1,
   "metadata": {},
   "outputs": [
    {
     "name": "stderr",
     "output_type": "stream",
     "text": [
      "Using TensorFlow backend.\n"
     ]
    },
    {
     "name": "stdout",
     "output_type": "stream",
     "text": [
      "Python:  3.7.0 (default, Jun 28 2018, 08:04:48) [MSC v.1912 64 bit (AMD64)]\n",
      "pandas:  0.23.4\n",
      "numpy:  1.19.1\n",
      "seaborn:  0.9.0\n",
      "matplotlib:  2.2.3\n",
      "sklearn:  0.19.2\n",
      "Keras:  2.3.1\n",
      "Tensorflow:  2.1.0\n"
     ]
    }
   ],
   "source": [
    "import keras\n",
    "from keras import regularizers, optimizers\n",
    "from keras import losses\n",
    "from keras.models import Sequential, Model, load_model\n",
    "from keras.layers import Dense, Input, Dropout, Embedding, LSTM,GRU\n",
    "from keras.optimizers import RMSprop, Adam, Nadam\n",
    "from keras.preprocessing import sequence\n",
    "\n",
    "from keras.layers import Conv1D, Flatten, Activation, SpatialDropout1D,MaxPooling1D,GlobalAveragePooling1D,Reshape\n",
    "from keras.callbacks import ModelCheckpoint, TensorBoard\n",
    "from keras.utils import to_categorical\n",
    "\n",
    "import sklearn\n",
    "from sklearn.preprocessing import StandardScaler, MinMaxScaler\n",
    " \n",
    "from sklearn.metrics import confusion_matrix, roc_auc_score,precision_recall_curve\n",
    "from sklearn.metrics import classification_report,auc\n",
    "\n",
    "import seaborn as sns\n",
    "import pandas as pd\n",
    "import numpy as np\n",
    "import matplotlib\n",
    "\n",
    "import matplotlib.pyplot as plt\n",
    "import matplotlib.gridspec as gridspec\n",
    "%matplotlib inline\n",
    "\n",
    "import tensorflow \n",
    "import sys\n",
    "print(\"Python: \", sys.version)\n",
    "\n",
    "print(\"pandas: \", pd.__version__)\n",
    "print(\"numpy: \", np.__version__)\n",
    "print(\"seaborn: \", sns.__version__)\n",
    "print(\"matplotlib: \", matplotlib.__version__)\n",
    "print(\"sklearn: \", sklearn.__version__)\n",
    "print(\"Keras: \", keras.__version__)\n",
    "print(\"Tensorflow: \", tensorflow.__version__)\n"
   ]
  },
  {
   "cell_type": "code",
   "execution_count": 2,
   "metadata": {},
   "outputs": [
    {
     "name": "stdout",
     "output_type": "stream",
     "text": [
      "(3004066, 4)\n"
     ]
    },
    {
     "data": {
      "text/html": [
       "<div>\n",
       "<style scoped>\n",
       "    .dataframe tbody tr th:only-of-type {\n",
       "        vertical-align: middle;\n",
       "    }\n",
       "\n",
       "    .dataframe tbody tr th {\n",
       "        vertical-align: top;\n",
       "    }\n",
       "\n",
       "    .dataframe thead th {\n",
       "        text-align: right;\n",
       "    }\n",
       "</style>\n",
       "<table border=\"1\" class=\"dataframe\">\n",
       "  <thead>\n",
       "    <tr style=\"text-align: right;\">\n",
       "      <th></th>\n",
       "      <th>timestamp</th>\n",
       "      <th>value</th>\n",
       "      <th>label</th>\n",
       "      <th>KPI ID</th>\n",
       "    </tr>\n",
       "  </thead>\n",
       "  <tbody>\n",
       "    <tr>\n",
       "      <th>0</th>\n",
       "      <td>1476460800</td>\n",
       "      <td>0.012604</td>\n",
       "      <td>0</td>\n",
       "      <td>da10a69f-d836-3baa-ad40-3e548ecf1fbd</td>\n",
       "    </tr>\n",
       "    <tr>\n",
       "      <th>1</th>\n",
       "      <td>1476460860</td>\n",
       "      <td>0.017786</td>\n",
       "      <td>0</td>\n",
       "      <td>da10a69f-d836-3baa-ad40-3e548ecf1fbd</td>\n",
       "    </tr>\n",
       "    <tr>\n",
       "      <th>2</th>\n",
       "      <td>1476460920</td>\n",
       "      <td>0.012014</td>\n",
       "      <td>0</td>\n",
       "      <td>da10a69f-d836-3baa-ad40-3e548ecf1fbd</td>\n",
       "    </tr>\n",
       "    <tr>\n",
       "      <th>3</th>\n",
       "      <td>1476460980</td>\n",
       "      <td>0.017062</td>\n",
       "      <td>0</td>\n",
       "      <td>da10a69f-d836-3baa-ad40-3e548ecf1fbd</td>\n",
       "    </tr>\n",
       "    <tr>\n",
       "      <th>4</th>\n",
       "      <td>1476461040</td>\n",
       "      <td>0.023632</td>\n",
       "      <td>0</td>\n",
       "      <td>da10a69f-d836-3baa-ad40-3e548ecf1fbd</td>\n",
       "    </tr>\n",
       "  </tbody>\n",
       "</table>\n",
       "</div>"
      ],
      "text/plain": [
       "    timestamp     value  label                                KPI ID\n",
       "0  1476460800  0.012604      0  da10a69f-d836-3baa-ad40-3e548ecf1fbd\n",
       "1  1476460860  0.017786      0  da10a69f-d836-3baa-ad40-3e548ecf1fbd\n",
       "2  1476460920  0.012014      0  da10a69f-d836-3baa-ad40-3e548ecf1fbd\n",
       "3  1476460980  0.017062      0  da10a69f-d836-3baa-ad40-3e548ecf1fbd\n",
       "4  1476461040  0.023632      0  da10a69f-d836-3baa-ad40-3e548ecf1fbd"
      ]
     },
     "execution_count": 2,
     "metadata": {},
     "output_type": "execute_result"
    }
   ],
   "source": [
    "df = pd.read_csv(\"../data/phase2_train.csv\", sep=\",\", index_col=None)\n",
    "print(df.shape)\n",
    "pd.options.display.max_columns = None\n",
    "df.head(5)"
   ]
  },
  {
   "cell_type": "code",
   "execution_count": 15,
   "metadata": {},
   "outputs": [
    {
     "name": "stdout",
     "output_type": "stream",
     "text": [
      "0    99905\n",
      "1       95\n",
      "Name: label, dtype: int64\n",
      "test 0    1400\n",
      "1      10\n",
      "Name: label, dtype: int64\n",
      "validation 0    1246\n",
      "1      10\n",
      "Name: label, dtype: int64\n"
     ]
    }
   ],
   "source": [
    "data= df[[\"value\",\"label\"]]\n",
    "a=data[ 200000:300000]##点集epoch=22 \n",
    "print(a['label'].value_counts())\n",
    "normal=a[(a['label']== 0) ]#\n",
    "normal=normal[~normal['value'].isin([0])]\n",
    "normal=normal[\"value\"]\n",
    "validation=data[220000:250000]#\n",
    "validation=validation[~validation['value'].isin([0])]\n",
    "test=data[190000:220000]#\n",
    "test=test[~test['value'].isin([0])]\n",
    "for i in range(len(test)):\n",
    "    if((test.iloc[i,0] < 200) and (test.iloc[i,1] == 1)):\n",
    "        test.iloc[i,1]=0        \n",
    "test_label=test['label']\n",
    "test_label=test_label.tolist()\n",
    "print(\"test\",test['label'].value_counts())\n",
    "print(\"validation\",validation['label'].value_counts())\n",
    "test_copy=test[\"value\"]"
   ]
  },
  {
   "cell_type": "code",
   "execution_count": 16,
   "metadata": {},
   "outputs": [
    {
     "name": "stdout",
     "output_type": "stream",
     "text": [
      "validation (62, 20, 1)\n",
      "train (241, 20, 1)\n",
      "test (70, 20, 1)\n"
     ]
    }
   ],
   "source": [
    "\n",
    "test=np.array(test['value'])\n",
    "validation=np.array(validation['value'])\n",
    "train=np.array(normal)\n",
    "timesquence=20\n",
    "trim=len(train)%timesquence\n",
    "train=train[:len(train)-trim]\n",
    "train.shape=(int(len(train)/timesquence),timesquence,1)\n",
    "trim=len(validation)%timesquence\n",
    "validation=validation[:len(validation)-trim]\n",
    "validation.shape=(int(len(validation)/timesquence),timesquence,1)\n",
    "print(\"validation\",validation.shape)\n",
    "print(\"train\",train.shape)\n",
    "trim=len(test)%timesquence\n",
    "test_label=test_label[:len(test)-trim]\n",
    "test=test[:len(test)-trim]\n",
    "test.shape=(int(len(test)/timesquence),timesquence,1)\n",
    "print(\"test\",test.shape)"
   ]
  },
  {
   "cell_type": "code",
   "execution_count": 12,
   "metadata": {},
   "outputs": [
    {
     "name": "stdout",
     "output_type": "stream",
     "text": [
      "[[[25.        ]]\n",
      "\n",
      " [[14.16666698]]\n",
      "\n",
      " [[15.5       ]]\n",
      "\n",
      " ...\n",
      "\n",
      " [[ 6.80000019]]\n",
      "\n",
      " [[ 6.        ]]\n",
      "\n",
      " [[12.39999962]]]\n"
     ]
    }
   ],
   "source": [
    "print(x_train)"
   ]
  },
  {
   "cell_type": "code",
   "execution_count": 41,
   "metadata": {},
   "outputs": [
    {
     "name": "stdout",
     "output_type": "stream",
     "text": [
      "Model: \"sequential_8\"\n",
      "_________________________________________________________________\n",
      "Layer (type)                 Output Shape              Param #   \n",
      "=================================================================\n",
      "lstm_8 (LSTM)                (None, 50, 32)            4352      \n",
      "_________________________________________________________________\n",
      "dense_8 (Dense)              (None, 50, 1)             33        \n",
      "=================================================================\n",
      "Total params: 4,385\n",
      "Trainable params: 4,385\n",
      "Non-trainable params: 0\n",
      "_________________________________________________________________\n",
      "None\n"
     ]
    }
   ],
   "source": [
    "#LSTM\n",
    "\n",
    "# metric = 'mean_absolute_error'\n",
    "# model = Sequential()\n",
    "# model.add(LSTM(units=32, activation='tanh', input_shape=(timesquence, 1), return_sequences=True))\n",
    "# model.add(Dense(1, activation='sigmoid'))\n",
    "\n",
    "# model.compile(optimizer='adam', loss='mean_absolute_error', metrics=[metric])\n",
    "# print(model.summary())\n"
   ]
  },
  {
   "cell_type": "code",
   "execution_count": 17,
   "metadata": {},
   "outputs": [
    {
     "name": "stdout",
     "output_type": "stream",
     "text": [
      "Model: \"sequential_2\"\n",
      "_________________________________________________________________\n",
      "Layer (type)                 Output Shape              Param #   \n",
      "=================================================================\n",
      "gru_4 (GRU)                  (None, 20, 32)            3264      \n",
      "_________________________________________________________________\n",
      "gru_5 (GRU)                  (None, 20, 16)            2352      \n",
      "_________________________________________________________________\n",
      "gru_6 (GRU)                  (None, 20, 8)             600       \n",
      "_________________________________________________________________\n",
      "dropout_2 (Dropout)          (None, 20, 8)             0         \n",
      "_________________________________________________________________\n",
      "dense_2 (Dense)              (None, 20, 1)             9         \n",
      "=================================================================\n",
      "Total params: 6,225\n",
      "Trainable params: 6,225\n",
      "Non-trainable params: 0\n",
      "_________________________________________________________________\n",
      "None\n"
     ]
    }
   ],
   "source": [
    "metric = 'mean_absolute_error'\n",
    "model = Sequential()\n",
    "model.add(GRU(units=32, activation='relu', input_shape=(20, 1), return_sequences=True))\n",
    "model.add(GRU(units=16,activation='relu', return_sequences=True))\n",
    "model.add(GRU(units=8,activation='relu', return_sequences=True))\n",
    "model.add(Dropout(0.5))  \n",
    "model.add(Dense(1, activation='relu'))\n",
    "model.compile(optimizer='adam', loss='mean_absolute_error', metrics=[metric])\n",
    "print(model.summary())"
   ]
  },
  {
   "cell_type": "code",
   "execution_count": 45,
   "metadata": {},
   "outputs": [
    {
     "name": "stdout",
     "output_type": "stream",
     "text": [
      "Model: \"model_4\"\n",
      "_________________________________________________________________\n",
      "Layer (type)                 Output Shape              Param #   \n",
      "=================================================================\n",
      "input_9 (InputLayer)         (None, None, 1)           0         \n",
      "_________________________________________________________________\n",
      "conv1d_18 (Conv1D)           (None, None, 32)          96        \n",
      "_________________________________________________________________\n",
      "dense_17 (Dense)             (None, None, 128)         4224      \n",
      "_________________________________________________________________\n",
      "dropout_5 (Dropout)          (None, None, 128)         0         \n",
      "_________________________________________________________________\n",
      "dense_18 (Dense)             (None, None, 1)           129       \n",
      "_________________________________________________________________\n",
      "lambda_4 (Lambda)            (None, None, 1)           0         \n",
      "=================================================================\n",
      "Total params: 4,449\n",
      "Trainable params: 4,449\n",
      "Non-trainable params: 0\n",
      "_________________________________________________________________\n"
     ]
    }
   ],
   "source": [
    "from keras.layers import  Lambda\n",
    "n_filters = 32 \n",
    "filter_width = 2\n",
    "\n",
    "# define an input history series and pass it through a stack of dilated causal convolutions. \n",
    "history_seq = Input(shape=(None, 1))\n",
    "x = history_seq\n",
    "x = Conv1D(filters=n_filters,\n",
    "               kernel_size=filter_width,\n",
    "             padding='causal',\n",
    "              activation='relu')(x)\n",
    "\n",
    "x = Dense(128, activation='relu')(x)\n",
    "x = Dropout(.2)(x)\n",
    "x = Dense(1)(x)\n",
    "# extract the last 14 time steps as the training target\n",
    "def slice(x, seq_length):\n",
    "    return x[:,-seq_length:,:]\n",
    "pred_seq_train = Lambda(slice, arguments={'seq_length':timesquence})(x)\n",
    "\n",
    "model = Model(history_seq, pred_seq_train)\n",
    "model.compile(optimizer=optimizers.Adam(), loss='mean_absolute_error')\n",
    "model.summary()"
   ]
  },
  {
   "cell_type": "code",
   "execution_count": 18,
   "metadata": {
    "scrolled": true
   },
   "outputs": [
    {
     "name": "stdout",
     "output_type": "stream",
     "text": [
      "Train on 241 samples, validate on 62 samples\n",
      "Epoch 1/50\n",
      "241/241 [==============================] - 17s 73ms/step - loss: 13.5598 - mean_absolute_error: 13.5598 - val_loss: 17.0162 - val_mean_absolute_error: 17.0162\n",
      "Epoch 2/50\n",
      "241/241 [==============================] - 2s 7ms/step - loss: 13.3832 - mean_absolute_error: 13.3832 - val_loss: 16.8336 - val_mean_absolute_error: 16.8336\n",
      "Epoch 3/50\n",
      "241/241 [==============================] - 2s 7ms/step - loss: 13.0110 - mean_absolute_error: 13.0110 - val_loss: 16.1131 - val_mean_absolute_error: 16.1131\n",
      "Epoch 4/50\n",
      "241/241 [==============================] - 2s 7ms/step - loss: 12.2756 - mean_absolute_error: 12.2756 - val_loss: 15.1807 - val_mean_absolute_error: 15.1807\n",
      "Epoch 5/50\n",
      "241/241 [==============================] - 2s 7ms/step - loss: 11.2925 - mean_absolute_error: 11.2925 - val_loss: 13.5389 - val_mean_absolute_error: 13.5389\n",
      "Epoch 6/50\n",
      "241/241 [==============================] - 2s 6ms/step - loss: 10.6206 - mean_absolute_error: 10.6206 - val_loss: 13.8920 - val_mean_absolute_error: 13.8920\n",
      "Epoch 7/50\n",
      "241/241 [==============================] - 2s 7ms/step - loss: 10.2546 - mean_absolute_error: 10.2546 - val_loss: 12.9424 - val_mean_absolute_error: 12.9424\n",
      "Epoch 8/50\n",
      "241/241 [==============================] - 2s 7ms/step - loss: 9.9783 - mean_absolute_error: 9.9783 - val_loss: 12.8830 - val_mean_absolute_error: 12.8830\n",
      "Epoch 9/50\n",
      "241/241 [==============================] - 2s 7ms/step - loss: 9.7136 - mean_absolute_error: 9.7136 - val_loss: 12.6503 - val_mean_absolute_error: 12.6503\n",
      "Epoch 10/50\n",
      "241/241 [==============================] - 2s 7ms/step - loss: 9.5532 - mean_absolute_error: 9.5532 - val_loss: 12.1179 - val_mean_absolute_error: 12.1179\n",
      "Epoch 11/50\n",
      "241/241 [==============================] - 2s 6ms/step - loss: 8.9090 - mean_absolute_error: 8.9090 - val_loss: 11.4818 - val_mean_absolute_error: 11.4818\n",
      "Epoch 12/50\n",
      "241/241 [==============================] - 2s 7ms/step - loss: 8.5955 - mean_absolute_error: 8.5955 - val_loss: 11.0636 - val_mean_absolute_error: 11.0636\n",
      "Epoch 13/50\n",
      "241/241 [==============================] - 2s 7ms/step - loss: 8.1703 - mean_absolute_error: 8.1703 - val_loss: 10.2393 - val_mean_absolute_error: 10.2393\n",
      "Epoch 14/50\n",
      "241/241 [==============================] - 2s 7ms/step - loss: 7.8601 - mean_absolute_error: 7.8601 - val_loss: 9.4426 - val_mean_absolute_error: 9.4426\n",
      "Epoch 15/50\n",
      "241/241 [==============================] - 2s 7ms/step - loss: 7.4043 - mean_absolute_error: 7.4043 - val_loss: 8.4459 - val_mean_absolute_error: 8.4459\n",
      "Epoch 16/50\n",
      "241/241 [==============================] - 2s 7ms/step - loss: 7.3496 - mean_absolute_error: 7.3496 - val_loss: 8.9573 - val_mean_absolute_error: 8.9573\n",
      "Epoch 17/50\n",
      "241/241 [==============================] - 2s 7ms/step - loss: 7.2150 - mean_absolute_error: 7.2150 - val_loss: 7.8041 - val_mean_absolute_error: 7.8041\n",
      "Epoch 18/50\n",
      "241/241 [==============================] - 2s 7ms/step - loss: 7.1936 - mean_absolute_error: 7.1936 - val_loss: 7.8939 - val_mean_absolute_error: 7.8939\n",
      "Epoch 19/50\n",
      "241/241 [==============================] - 2s 8ms/step - loss: 7.1166 - mean_absolute_error: 7.1166 - val_loss: 7.4662 - val_mean_absolute_error: 7.4662\n",
      "Epoch 20/50\n",
      "241/241 [==============================] - 2s 7ms/step - loss: 7.0610 - mean_absolute_error: 7.0610 - val_loss: 7.6109 - val_mean_absolute_error: 7.6109\n",
      "Epoch 21/50\n",
      "241/241 [==============================] - 2s 8ms/step - loss: 6.9629 - mean_absolute_error: 6.9629 - val_loss: 7.3346 - val_mean_absolute_error: 7.3346\n",
      "Epoch 22/50\n",
      "241/241 [==============================] - 2s 7ms/step - loss: 7.0251 - mean_absolute_error: 7.0251 - val_loss: 7.1078 - val_mean_absolute_error: 7.1078\n",
      "Epoch 23/50\n",
      "241/241 [==============================] - 2s 8ms/step - loss: 7.0466 - mean_absolute_error: 7.0466 - val_loss: 6.7176 - val_mean_absolute_error: 6.7176\n",
      "Epoch 24/50\n",
      "241/241 [==============================] - 2s 8ms/step - loss: 6.8727 - mean_absolute_error: 6.8727 - val_loss: 7.0045 - val_mean_absolute_error: 7.0045\n",
      "Epoch 25/50\n",
      "241/241 [==============================] - 2s 8ms/step - loss: 6.8613 - mean_absolute_error: 6.8613 - val_loss: 6.8621 - val_mean_absolute_error: 6.8621\n",
      "Epoch 26/50\n",
      "241/241 [==============================] - 2s 8ms/step - loss: 6.9345 - mean_absolute_error: 6.9345 - val_loss: 6.8969 - val_mean_absolute_error: 6.8969\n",
      "Epoch 27/50\n",
      "241/241 [==============================] - 2s 7ms/step - loss: 6.8673 - mean_absolute_error: 6.8673 - val_loss: 6.4162 - val_mean_absolute_error: 6.4162\n",
      "Epoch 28/50\n",
      "241/241 [==============================] - 2s 7ms/step - loss: 6.7965 - mean_absolute_error: 6.7965 - val_loss: 6.8153 - val_mean_absolute_error: 6.8153\n",
      "Epoch 29/50\n",
      "241/241 [==============================] - 2s 7ms/step - loss: 6.9685 - mean_absolute_error: 6.9685 - val_loss: 6.7262 - val_mean_absolute_error: 6.7262\n",
      "Epoch 30/50\n",
      "241/241 [==============================] - 2s 7ms/step - loss: 6.7495 - mean_absolute_error: 6.7495 - val_loss: 6.4277 - val_mean_absolute_error: 6.4277\n",
      "Epoch 31/50\n",
      "241/241 [==============================] - 2s 7ms/step - loss: 6.7849 - mean_absolute_error: 6.7849 - val_loss: 6.4255 - val_mean_absolute_error: 6.4255\n",
      "Epoch 32/50\n",
      "241/241 [==============================] - 2s 7ms/step - loss: 6.7048 - mean_absolute_error: 6.7048 - val_loss: 6.1831 - val_mean_absolute_error: 6.1831\n",
      "Epoch 33/50\n",
      "241/241 [==============================] - 2s 7ms/step - loss: 6.8100 - mean_absolute_error: 6.8100 - val_loss: 6.4110 - val_mean_absolute_error: 6.4110\n",
      "Epoch 34/50\n",
      "241/241 [==============================] - 2s 7ms/step - loss: 6.7477 - mean_absolute_error: 6.7477 - val_loss: 6.2490 - val_mean_absolute_error: 6.2490\n",
      "Epoch 35/50\n",
      "241/241 [==============================] - 2s 7ms/step - loss: 6.5737 - mean_absolute_error: 6.5737 - val_loss: 6.6378 - val_mean_absolute_error: 6.6378\n",
      "Epoch 36/50\n",
      "241/241 [==============================] - 2s 7ms/step - loss: 6.6991 - mean_absolute_error: 6.6991 - val_loss: 7.0428 - val_mean_absolute_error: 7.0428\n",
      "Epoch 37/50\n",
      "241/241 [==============================] - 2s 7ms/step - loss: 6.6684 - mean_absolute_error: 6.6684 - val_loss: 6.5511 - val_mean_absolute_error: 6.5511\n",
      "Epoch 38/50\n",
      "241/241 [==============================] - 2s 7ms/step - loss: 6.4747 - mean_absolute_error: 6.4747 - val_loss: 6.7985 - val_mean_absolute_error: 6.7985\n",
      "Epoch 39/50\n",
      "241/241 [==============================] - 2s 6ms/step - loss: 6.8086 - mean_absolute_error: 6.8086 - val_loss: 6.6152 - val_mean_absolute_error: 6.6152\n",
      "Epoch 40/50\n",
      "241/241 [==============================] - 2s 6ms/step - loss: 6.6523 - mean_absolute_error: 6.6523 - val_loss: 6.4683 - val_mean_absolute_error: 6.4683\n",
      "Epoch 41/50\n",
      "241/241 [==============================] - 2s 7ms/step - loss: 6.2615 - mean_absolute_error: 6.2615 - val_loss: 5.6435 - val_mean_absolute_error: 5.6435\n",
      "Epoch 42/50\n",
      "241/241 [==============================] - 2s 6ms/step - loss: 5.9014 - mean_absolute_error: 5.9014 - val_loss: 5.2437 - val_mean_absolute_error: 5.2437\n",
      "Epoch 43/50\n",
      "241/241 [==============================] - 2s 6ms/step - loss: 5.7175 - mean_absolute_error: 5.7175 - val_loss: 5.2927 - val_mean_absolute_error: 5.2927\n",
      "Epoch 44/50\n",
      "241/241 [==============================] - 2s 6ms/step - loss: 5.5573 - mean_absolute_error: 5.5573 - val_loss: 5.1018 - val_mean_absolute_error: 5.1018\n",
      "Epoch 45/50\n",
      "241/241 [==============================] - 1s 6ms/step - loss: 5.5341 - mean_absolute_error: 5.5341 - val_loss: 4.8853 - val_mean_absolute_error: 4.8853\n",
      "Epoch 46/50\n",
      "241/241 [==============================] - 2s 6ms/step - loss: 5.4480 - mean_absolute_error: 5.4480 - val_loss: 4.7130 - val_mean_absolute_error: 4.7130\n",
      "Epoch 47/50\n",
      "241/241 [==============================] - 2s 6ms/step - loss: 5.4662 - mean_absolute_error: 5.4662 - val_loss: 4.5176 - val_mean_absolute_error: 4.5176\n",
      "Epoch 48/50\n",
      "241/241 [==============================] - 2s 6ms/step - loss: 5.3266 - mean_absolute_error: 5.3266 - val_loss: 4.3679 - val_mean_absolute_error: 4.3679\n",
      "Epoch 49/50\n",
      "241/241 [==============================] - 2s 7ms/step - loss: 5.2152 - mean_absolute_error: 5.2152 - val_loss: 4.2823 - val_mean_absolute_error: 4.2823\n",
      "Epoch 50/50\n"
     ]
    },
    {
     "name": "stdout",
     "output_type": "stream",
     "text": [
      "241/241 [==============================] - 2s 7ms/step - loss: 5.1852 - mean_absolute_error: 5.1852 - val_loss: 4.3360 - val_mean_absolute_error: 4.3360\n"
     ]
    }
   ],
   "source": [
    "\n",
    "history=model.fit(train, train,\n",
    "                  batch_size=32,\n",
    "                   epochs=50,\n",
    "                    validation_data=(validation, validation))\n"
   ]
  },
  {
   "cell_type": "code",
   "execution_count": 19,
   "metadata": {},
   "outputs": [
    {
     "data": {
      "text/plain": [
       "<matplotlib.legend.Legend at 0x16de1fb7d68>"
      ]
     },
     "execution_count": 19,
     "metadata": {},
     "output_type": "execute_result"
    },
    {
     "data": {
      "image/png": "[encoded data removed]",
      "text/plain": [
       "<Figure size 432x288 with 1 Axes>"
      ]
     },
     "metadata": {
      "needs_background": "light"
     },
     "output_type": "display_data"
    }
   ],
   "source": [
    "plt.plot(history.history['loss'])\n",
    "plt.plot(history.history['val_loss'])\n",
    "\n",
    "plt.xlabel('Epoch')\n",
    "plt.ylabel('Mean Absolute Error Loss')\n",
    "plt.title('Loss Over Time')\n",
    "plt.legend(['Train','Valid'])"
   ]
  },
  {
   "cell_type": "code",
   "execution_count": 20,
   "metadata": {},
   "outputs": [],
   "source": [
    "test_pred = model.predict(test)"
   ]
  },
  {
   "cell_type": "code",
   "execution_count": 21,
   "metadata": {},
   "outputs": [
    {
     "data": {
      "text/plain": [
       "<matplotlib.legend.Legend at 0x16dec91de80>"
      ]
     },
     "execution_count": 21,
     "metadata": {},
     "output_type": "execute_result"
    },
    {
     "data": {
      "image/png": "[encoded data removed]",
      "text/plain": [
       "<Figure size 1080x432 with 1 Axes>"
      ]
     },
     "metadata": {
      "needs_background": "light"
     },
     "output_type": "display_data"
    }
   ],
   "source": [
    "from matplotlib.pyplot import MultipleLocator\n",
    "test1=test.reshape(test.shape[0]*test.shape[1],1)\n",
    "test_pred1=test_pred.reshape(test_pred.shape[0]*test_pred.shape[1],1)\n",
    "plt.figure(figsize=(15,6))\n",
    "plt.xlabel('time',fontsize=14)\n",
    "plt.ylabel('value',fontsize=14)\n",
    "y_major_locator=MultipleLocator(100)\n",
    "ax=plt.gca()\n",
    "ax.yaxis.set_major_locator(y_major_locator)\n",
    "#plt.ylim(0,1000)\n",
    "plt.plot(test1[0:],color=\"green\")\n",
    "plt.plot(test_pred1[0:],color=\"orange\",linestyle='-')\n",
    "for i in range(len(test1)):\n",
    "    if test_label[i] == 1:\n",
    "        plt.scatter(i,test1[i],color=\"red\")          \n",
    "plt.legend(('test','pred_test','anomaly data'),loc='upper right',fontsize='x-large')\n"
   ]
  },
  {
   "cell_type": "code",
   "execution_count": 22,
   "metadata": {},
   "outputs": [
    {
     "name": "stdout",
     "output_type": "stream",
     "text": [
      "[1.04713440e-03 3.24749947e-03 4.51040268e-03 ... 2.40593079e+02\n",
      " 2.75832031e+02 2.87681091e+02]\n"
     ]
    }
   ],
   "source": [
    "#点集检测\n",
    "pred_label=[]\n",
    "for i in range(len(test1)):\n",
    "    pred_label.append(0)#正常\n",
    "\n",
    "PAsum_rela_erro=np.zeros((len(pred_label)), dtype = float)\n",
    "for i in range(len(pred_label)):\n",
    "    PAsum_rela_erro[i]=np.abs(test1[i]-test_pred1[i])\n",
    "PAscores=PAsum_rela_erro.copy()\n",
    "PAscores.sort()\n",
    "print(PAscores)\n"
   ]
  },
  {
   "cell_type": "code",
   "execution_count": 23,
   "metadata": {
    "scrolled": true
   },
   "outputs": [
    {
     "data": {
      "text/plain": [
       "0.23912906650918053"
      ]
     },
     "execution_count": 23,
     "metadata": {},
     "output_type": "execute_result"
    }
   ],
   "source": [
    "PAscores[100]"
   ]
  },
  {
   "cell_type": "code",
   "execution_count": 24,
   "metadata": {},
   "outputs": [
    {
     "name": "stdout",
     "output_type": "stream",
     "text": [
      "12.43083190921211\n"
     ]
    }
   ],
   "source": [
    "PAcutoff=int(0.95*len(PAscores))\n",
    "PAthreshold=PAscores[PAcutoff]\n",
    "print(PAscores[PAcutoff])"
   ]
  },
  {
   "cell_type": "code",
   "execution_count": 25,
   "metadata": {},
   "outputs": [],
   "source": [
    "for i in range(len(test1)):\n",
    "    if PAsum_rela_erro[i] > PAthreshold:\n",
    "        pred_label[i]=2 #异常"
   ]
  },
  {
   "cell_type": "code",
   "execution_count": 26,
   "metadata": {},
   "outputs": [
    {
     "name": "stdout",
     "output_type": "stream",
     "text": [
      "[ 0.          0.20984727  0.33556414  0.54566288  0.61845744  0.62314159\n",
      "  0.63719767  0.99125627  1.03590727  1.0399341   1.13485432  1.1468935\n",
      "  1.15489733  1.19778913  1.37360877  1.6385985   1.82648569  2.20457304\n",
      "  2.5         3.44219273  3.5488286   3.65048969  4.10658944  4.45850718\n",
      "  4.48362851  4.49398381  5.12189364  5.52266407  5.53320408  5.84690154\n",
      "  6.04421306  6.80475807  7.38551253  7.63903487  7.6778717   8.12825155\n",
      "  8.14836884  8.26312852  8.38605624  8.39002991  8.50156856  8.65680647\n",
      "  8.67779708  8.68313819  8.78397989  8.94555426  9.07437181  9.26147366\n",
      "  9.31413031  9.42041111  9.49359506  9.54112625  9.54925394  9.82974529\n",
      "  9.83634877 10.48955059 10.54749727 10.55568695 10.58546072 10.66372728\n",
      " 10.67862368 10.73397207 10.74677968 10.87453938 10.88886046 10.94535875\n",
      " 11.02387953 11.03332186 11.0867939  11.1203022  11.18930817 11.196311\n",
      " 11.21757746 11.25917768 11.32702017 11.44353962 11.47956228 11.52114964\n",
      " 11.58182698 11.61133379 11.63230848 11.72055626 11.72240448 11.76329708\n",
      " 11.88468313 11.92529964 11.95838356 12.00167227 12.00766182 12.01784801\n",
      " 12.16396666 12.18766284 12.2087369  12.20882696 12.21065617 12.24295521\n",
      " 12.24745798 12.34326553 12.45636058 12.59230947 12.61294079 12.66577339\n",
      " 12.68074417 12.80205822 12.8699584  12.91968489 12.94190216 13.02843285\n",
      " 13.09695244 13.11136532 13.43003321 13.49935007 13.50284576 13.51703596\n",
      " 13.61172676 13.62605381 13.64703202 13.74209452 13.77679515 13.77873945\n",
      " 13.92740154 13.95116997 13.97488928 13.98312902 14.00091267 14.0756402\n",
      " 14.11077404 14.13690281 14.24671888 14.36976385 14.37570715 14.37926817\n",
      " 14.42528343 14.42654371 14.44065905 14.44561052 14.48253775 14.49461412\n",
      " 14.56444407 14.58538055 14.60913706 14.63135338 14.64489841 14.70140743\n",
      " 14.70402884 14.71761656 14.72249365 14.76327825 14.77528977 14.79438591\n",
      " 14.79792452 14.89181042 14.90745258 14.95523357 15.04658318 15.05661488\n",
      " 15.15930176 15.1798296  15.19960499 15.27548933 15.28766465 15.31843925\n",
      " 15.37535763 15.38348293 15.39564419 15.47746038 15.53807354 15.54321289\n",
      " 15.57210159 15.59686851 15.59751844 15.62405872 15.7191925  15.76874971\n",
      " 15.91421556 15.93561411 15.95964003 16.04423571 16.05781841 16.0602417\n",
      " 16.06078291 16.0731926  16.15010548 16.33409405 16.35972881 16.40117931\n",
      " 16.48367763 16.51014328 16.56395173 16.60955143 16.74087906 17.00995374\n",
      " 17.0560112  17.0560863  17.08743477 17.12500429 17.14732599 17.18626404\n",
      " 17.21926308 17.32563114 17.44944239 17.4515214  17.50773382 17.54343098\n",
      " 17.63371038 17.64949512 17.79538631 18.02099943 18.08458424 18.11236787\n",
      " 18.21289015 18.36174917 18.39196491 18.44573259 18.59121275 18.61602259\n",
      " 18.62733269 18.62896514 18.66530275 18.75384521 18.94156933 18.94271946\n",
      " 18.94670296 18.99308681 19.0332427  19.07933855 19.08551025 19.23609591\n",
      " 19.27752018 19.2827673  19.33905458 19.41179848 19.42719245 20.02593422\n",
      " 20.0322845  20.11705256 20.45282459 20.77198172 20.87103891 21.07768154\n",
      " 21.14105749 21.28190708 21.31472331 21.31763363 21.48169231 21.48317957\n",
      " 21.74182987 22.14482403 22.31686497 22.93695784 23.61424255 23.87926865\n",
      " 23.88660669 23.90217924 23.96735668 23.98584557 24.85843945 24.86004472\n",
      " 25.100173   25.1404314  25.23126698 25.46986294 25.56869316 25.73783493\n",
      " 25.92063236 26.12498713 26.14876699 26.34290504 27.17979193 27.29607296\n",
      " 28.08786106 28.58133793 29.55254936 29.95227432 30.13682747 30.2140379\n",
      " 31.36975098 32.38502693 32.73848915 33.94158936 34.07607269]\n"
     ]
    }
   ],
   "source": [
    "normal_rela_erro=0.5\n",
    "#集体集检测\n",
    "timestep=5\n",
    "n=int(len(pred_label)/timestep)\n",
    "CAsum_rela_erro=np.zeros(n+1, dtype = float)\n",
    "for i in range(0,len(test1),timestep):\n",
    "    for j in range(timestep):\n",
    "            if ((i+j)<len(pred_label)) and (pred_label[i+j]==0):\n",
    "                rela_erro=np.abs(test1[i+j]-test_pred1[i+j])\n",
    "                CAsum_rela_erro[int(i/timestep)]=rela_erro+CAsum_rela_erro[int(i/timestep)]\n",
    "              #  print()\n",
    "            else:\n",
    "                CAsum_rela_erro[int(i/timestep)]=normal_rela_erro+CAsum_rela_erro[int(i/timestep)]\n",
    "                \n",
    "                \n",
    "CAscores=CAsum_rela_erro.copy()\n",
    "CAscores.sort()\n",
    "print(CAscores)\n"
   ]
  },
  {
   "cell_type": "code",
   "execution_count": 27,
   "metadata": {},
   "outputs": [
    {
     "name": "stdout",
     "output_type": "stream",
     "text": [
      "32.7384891510334\n"
     ]
    }
   ],
   "source": [
    "CAcutoff=int(0.99*len(CAscores))\n",
    "CAthreshold=500#CAscores[CAcutoff]\n",
    "print(CAscores[CAcutoff])"
   ]
  },
  {
   "cell_type": "code",
   "execution_count": 28,
   "metadata": {},
   "outputs": [],
   "source": [
    "for i in range(n+1):\n",
    "    if CAsum_rela_erro[i] > CAthreshold:\n",
    "        for j in range(timestep):\n",
    "            if i*timestep+j<len(pred_label) and pred_label[i*timestep+j]!=2:\n",
    "                pred_label[i*timestep+j]=1\n",
    "        "
   ]
  },
  {
   "cell_type": "code",
   "execution_count": 29,
   "metadata": {},
   "outputs": [],
   "source": [
    "Perro_x=[]\n",
    "Perro_y=[]\n",
    "Cerro_x=[]\n",
    "Cerro_y=[]\n",
    "for i in range(len(test1)):\n",
    "    if pred_label[i]==2:\n",
    "        Perro_x.append(i)\n",
    "        Perro_y.append(test1[i])\n",
    "    elif pred_label[i]==1:\n",
    "        Cerro_x.append(i)\n",
    "        Cerro_y.append(test1[i])"
   ]
  },
  {
   "cell_type": "code",
   "execution_count": 30,
   "metadata": {},
   "outputs": [
    {
     "data": {
      "text/plain": [
       "<matplotlib.legend.Legend at 0x16dec9d2cf8>"
      ]
     },
     "execution_count": 30,
     "metadata": {},
     "output_type": "execute_result"
    },
    {
     "data": {
      "image/png": "[encoded data removed]",
      "text/plain": [
       "<Figure size 1080x432 with 1 Axes>"
      ]
     },
     "metadata": {
      "needs_background": "light"
     },
     "output_type": "display_data"
    }
   ],
   "source": [
    "from matplotlib.pyplot import MultipleLocator\n",
    "test1=test.reshape(test.shape[0]*test.shape[1],1)\n",
    "test_pred1=test_pred.reshape(test_pred.shape[0]*test_pred.shape[1],1)\n",
    "plt.figure(figsize=(15,6))\n",
    "plt.xlabel('time',fontsize=14)\n",
    "plt.ylabel('value',fontsize=14)\n",
    "y_major_locator=MultipleLocator(100)\n",
    "ax=plt.gca()\n",
    "ax.yaxis.set_major_locator(y_major_locator)\n",
    "#plt.ylim(0,1000)\n",
    "plt.plot(test1[0:],color=\"green\",label='test')\n",
    "plt.plot(test_pred1[0:],color=\"orange\",linestyle='-',label='pred_test')\n",
    "plt.scatter(Cerro_x,Cerro_y,color=\"red\",label='CA_data')\n",
    "plt.scatter(Perro_x,Perro_y,color=\"blue\",marker=\"X\",label='PA_data')          \n",
    "plt.legend()\n"
   ]
  },
  {
   "cell_type": "code",
   "execution_count": 31,
   "metadata": {},
   "outputs": [],
   "source": [
    "Pred_label=[]\n",
    "for i in range(len(pred_label)):\n",
    "    if pred_label[i]==0:\n",
    "        Pred_label.append(0)\n",
    "    else:\n",
    "        Pred_label.append(1)"
   ]
  },
  {
   "cell_type": "code",
   "execution_count": 32,
   "metadata": {},
   "outputs": [
    {
     "name": "stdout",
     "output_type": "stream",
     "text": [
      "CA: 0\n",
      "PA: 69\n",
      "ROC_AUC score:97.877698%\n",
      "PR-AUC score:57.246377%\n"
     ]
    }
   ],
   "source": [
    "print(\"CA:\",pred_label.count(1))\n",
    "print(\"PA:\",pred_label.count(2))\n",
    "ROC=roc_auc_score(test_label,Pred_label)\n",
    "print(\"ROC_AUC score:{:2%}\".format(ROC))  \n",
    "precision, recall, _thresholds = precision_recall_curve(test_label, Pred_label)\n",
    "PR_AUC = auc(recall, precision)\n",
    "print(\"PR-AUC score:{:2%}\".format(PR_AUC)) "
   ]
  },
  {
   "cell_type": "code",
   "execution_count": 75,
   "metadata": {},
   "outputs": [
    {
     "data": {
      "image/png": "[encoded data removed]",
      "text/plain": [
       "<Figure size 432x288 with 2 Axes>"
      ]
     },
     "metadata": {
      "needs_background": "light"
     },
     "output_type": "display_data"
    }
   ],
   "source": [
    "class Visualization:\n",
    "    labels = [\"Normal\", \"Anomaly\"]\n",
    "\n",
    "    def draw_confusion_matrix(self, y, ypred):\n",
    "        matrix = confusion_matrix(y, ypred)\n",
    "\n",
    "        plt.figure(figsize=(6, 4))\n",
    "        colors=[ \"orange\",\"green\"]\n",
    "        sns.heatmap(matrix, xticklabels=self.labels, yticklabels=self.labels, cmap=colors, annot=True, fmt=\"d\")\n",
    "        plt.title(\"Confusion Matrix\")\n",
    "        plt.ylabel('Actual')\n",
    "        plt.xlabel('Predicted')\n",
    "        plt.show()\n",
    "\n",
    "viz = Visualization()\n",
    "viz.draw_confusion_matrix(test_label,Pred_label)"
   ]
  }
 ],
 "metadata": {
  "kernelspec": {
   "display_name": "Python 3",
   "language": "python",
   "name": "python3"
  },
  "language_info": {
   "codemirror_mode": {
    "name": "ipython",
    "version": 3
   },
   "file_extension": ".py",
   "mimetype": "text/x-python",
   "name": "python",
   "nbconvert_exporter": "python",
   "pygments_lexer": "ipython3",
   "version": "3.7.0"
  }
 },
 "nbformat": 4,
 "nbformat_minor": 2
}
